{
 "cells": [
  {
   "cell_type": "code",
   "execution_count": 1,
   "metadata": {},
   "outputs": [
    {
     "name": "stderr",
     "output_type": "stream",
     "text": [
      "2023-10-06 12:15:47.813446: I tensorflow/tsl/cuda/cudart_stub.cc:28] Could not find cuda drivers on your machine, GPU will not be used.\n",
      "2023-10-06 12:15:47.851414: I tensorflow/tsl/cuda/cudart_stub.cc:28] Could not find cuda drivers on your machine, GPU will not be used.\n",
      "2023-10-06 12:15:47.851872: I tensorflow/core/platform/cpu_feature_guard.cc:182] This TensorFlow binary is optimized to use available CPU instructions in performance-critical operations.\n",
      "To enable the following instructions: AVX2 FMA, in other operations, rebuild TensorFlow with the appropriate compiler flags.\n",
      "2023-10-06 12:15:48.518747: W tensorflow/compiler/tf2tensorrt/utils/py_utils.cc:38] TF-TRT Warning: Could not find TensorRT\n"
     ]
    }
   ],
   "source": [
    "import os\n",
    "#os.environ['KMP_DUPLICATE_LIB_OK']='True' #This is needed in my Anaconda+MacOsX installation; leave it commented.\n",
    "import tensorflow as tf\n",
    "from tensorflow import keras\n",
    "import numpy as np\n",
    "import matplotlib.pyplot as plt\n",
    "from keras.datasets import mnist  #carico le foto dal dataset di keras\n",
    "from keras.models import Sequential\n",
    "from keras.layers import Dense, Dropout\n",
    "from keras.optimizers import SGD, Adam, RMSprop, Adagrad, Adadelta, Adamax, Nadam\n",
    "plt.rcParams.update({'font.size': 20})"
   ]
  },
  {
   "cell_type": "markdown",
   "metadata": {},
   "source": [
    "# <span style=\"color:green\"> Numerical Simulation Laboratory </span>\n",
    "## <span style=\"color:brown\"> Python Exercise 12 </span>"
   ]
  },
  {
   "cell_type": "markdown",
   "metadata": {},
   "source": [
    "### Exercise 12: MNIST with Keras\n",
    "\n",
    "The goal of exercise 12 is to use deep neural network models, implemented in the Keras python package, to recognize and distinguish between the ten handwritten digits (0-9).\n",
    "\n",
    "The MNIST dataset comprises $70000$ handwritten digits, each of which comes in a square image, divided into a $28\\times 28$ pixel grid. Every pixel can take on $256$ gradation of the gray color, interpolating between white and black, and hence each data point assumes any value in the set $\\{0,1,\\dots,255\\}$. Since there are $10$ categories in the problem, corresponding to the ten digits, this problem represents a generic **classification task**."
   ]
  },
  {
   "cell_type": "markdown",
   "metadata": {},
   "source": [
    "#### Load and Process the Data\n",
    "\n",
    "We load the MNIST data from the web using `load_data()` class."
   ]
  },
  {
   "cell_type": "code",
   "execution_count": 2,
   "metadata": {},
   "outputs": [
    {
     "name": "stdout",
     "output_type": "stream",
     "text": [
      "X_train shape: (60000, 28, 28)\n",
      "Y_train shape: (60000,)\n"
     ]
    }
   ],
   "source": [
    "seed=0\n",
    "np.random.seed(seed) # fix random seed\n",
    "tf.random.set_seed(seed)\n",
    "# input image dimensions\n",
    "img_rows, img_cols = 28, 28 # number of pixels \n",
    "# output\n",
    "num_classes = 10 # 10 digits\n",
    "\n",
    "# the data, split between train and test sets\n",
    "(X_train, Y_train), (X_test, Y_test) = mnist.load_data()\n",
    "\n",
    "print('X_train shape:', X_train.shape)\n",
    "print('Y_train shape:', Y_train.shape)"
   ]
  },
  {
   "cell_type": "markdown",
   "metadata": {},
   "source": [
    "\n",
    "Once we have loaded the data, we need to format it in the correct shape."
   ]
  },
  {
   "cell_type": "code",
   "execution_count": 3,
   "metadata": {},
   "outputs": [
    {
     "name": "stdout",
     "output_type": "stream",
     "text": [
      "X_train shape: (60000, 784)\n",
      "X_test shape: (10000, 784)\n",
      "\n",
      "an example of a data point with label 4\n"
     ]
    },
    {
     "data": {
      "image/png": "[encoded data removed]",
      "text/plain": [
       "<Figure size 288x288 with 1 Axes>"
      ]
     },
     "metadata": {
      "needs_background": "light"
     },
     "output_type": "display_data"
    },
    {
     "name": "stdout",
     "output_type": "stream",
     "text": [
      "... and with label [0. 0. 0. 0. 1. 0. 0. 0. 0. 0.] after to_categorical\n",
      "\n",
      "X_train shape: (60000, 784)\n",
      "Y_train shape: (60000, 10)\n"
     ]
    }
   ],
   "source": [
    "# reshape data, it could depend on Keras backend\n",
    "X_train = X_train.reshape(X_train.shape[0], img_rows*img_cols)\n",
    "X_test = X_test.reshape(X_test.shape[0], img_rows*img_cols)\n",
    "print('X_train shape:', X_train.shape)\n",
    "print('X_test shape:', X_test.shape)\n",
    "print()\n",
    "\n",
    "# cast floats to single precision\n",
    "X_train = X_train.astype('float32')\n",
    "X_test = X_test.astype('float32')\n",
    "\n",
    "# rescale data in interval [0,1]\n",
    "X_train /= 255\n",
    "X_test /= 255\n",
    "\n",
    "# look at an example of data point\n",
    "print('an example of a data point with label', Y_train[20])\n",
    "# matshow: display a matrix in a new figure window\n",
    "plt.matshow(X_train[20,:].reshape(28,28),cmap='binary')\n",
    "plt.show()\n",
    "\n",
    "# convert class vectors to binary class matrices, e.g. for use with categorical_crossentropy\n",
    "Y_train = keras.utils.to_categorical(Y_train, num_classes)\n",
    "Y_test = keras.utils.to_categorical(Y_test, num_classes)\n",
    "print('... and with label', Y_train[20], 'after to_categorical')\n",
    "print()\n",
    "print('X_train shape:', X_train.shape)\n",
    "print('Y_train shape:', Y_train.shape)"
   ]
  },
  {
   "cell_type": "markdown",
   "metadata": {},
   "source": [
    "### Exercise 12.1\n",
    "\n",
    "The neural network consists of 3 layers:\n",
    "\n",
    "- 400 neurons with **ReLU** activation function.\n",
    "- 100 neurons with **ReLU** activation function.\n",
    "- Output layer with 10 neurons and **softmax** activation function.\n",
    "\n",
    "The last layer must be limited to map the output to the 10 digits.\n",
    "\n",
    "Furthermore, we introduce a 50% dropout, which is a procedure where a portion of the neurons is deactivated for each epoch. This is useful to prevent overfitting, a phenomenon in which the model memorizes individual training data points."
   ]
  },
  {
   "cell_type": "code",
   "execution_count": 4,
   "metadata": {},
   "outputs": [],
   "source": [
    "def create_DNN():\n",
    "    # instantiate model\n",
    "    model = Sequential()\n",
    "    # add a dense all-to-all relu layer\n",
    "    model.add(Dense(400,input_shape=(img_rows*img_cols,), activation='relu'))\n",
    "    # add a dense all-to-all relu layer\n",
    "    model.add(Dense(100, activation='relu'))\n",
    "    # apply dropout with rate 0.5\n",
    "    model.add(Dropout(0.5))\n",
    "    # soft-max layer\n",
    "    model.add(Dense(num_classes, activation='softmax'))\n",
    "    print('Model architecture created successfully!')\n",
    "    return model\n",
    "\n",
    "def CaCModel(opt):\n",
    "    # create the model\n",
    "    model=create_DNN()\n",
    "    # compile the model\n",
    "    model.compile(loss=keras.losses.categorical_crossentropy,\n",
    "                  optimizer=opt,\n",
    "                  metrics=['acc'])\n",
    "    model.save_weights(f'weights/model_weights_{opt}.h5')\n",
    "    print('Model compiled successfully and ready to be trained.')\n",
    "    return model\n",
    "\n"
   ]
  },
  {
   "cell_type": "markdown",
   "metadata": {},
   "source": [
    "\n",
    "We begin addressing the problem by studying the performance variation concerning the number of epochs the system has been trained for.\n",
    "\n",
    "In order to adjusting the model as necessary and we extend the training duration by increasing the number of epochs from 5 to 15. Additionally, we experiment the Deep Neural Network with different optimizers:\n",
    "\n",
    "- Stochastic Gradient Descent (SGD).\n",
    "- (RMSprop)\n",
    "- (Adam)\n",
    "\n",
    "While doing so, it's crucial to monitor the accuracy and loss metrics for both the training and validation datasets. So we provide commentary on the model's performance under different optimizer choices."
   ]
  },
  {
   "cell_type": "code",
   "execution_count": null,
   "metadata": {},
   "outputs": [
    {
     "name": "stdout",
     "output_type": "stream",
     "text": [
      "NEW MODEl with optimizer  sgd\n",
      "Model architecture created successfully!\n",
      "Model compiled successfully and ready to be trained.\n",
      "Epoch 1/15\n",
      "1875/1875 [==============================] - 5s 3ms/step - loss: 0.7785 - acc: 0.7703 - val_loss: 0.3145 - val_acc: 0.9136\n",
      "Epoch 2/15\n",
      "1875/1875 [==============================] - 5s 3ms/step - loss: 0.3851 - acc: 0.8899 - val_loss: 0.2407 - val_acc: 0.9306\n",
      "Epoch 3/15\n",
      "1875/1875 [==============================] - 5s 3ms/step - loss: 0.3129 - acc: 0.9115 - val_loss: 0.2086 - val_acc: 0.9389\n",
      "Epoch 4/15\n",
      "1875/1875 [==============================] - 5s 3ms/step - loss: 0.2699 - acc: 0.9239 - val_loss: 0.1800 - val_acc: 0.9467\n",
      "Epoch 5/15\n",
      "1875/1875 [==============================] - 5s 3ms/step - loss: 0.2410 - acc: 0.9319 - val_loss: 0.1634 - val_acc: 0.9508\n",
      "Epoch 6/15\n",
      "1875/1875 [==============================] - 5s 3ms/step - loss: 0.2163 - acc: 0.9381 - val_loss: 0.1463 - val_acc: 0.9571\n",
      "Epoch 7/15\n",
      "1875/1875 [==============================] - 5s 3ms/step - loss: 0.1930 - acc: 0.9442 - val_loss: 0.1358 - val_acc: 0.9578\n",
      "Epoch 8/15\n",
      "1875/1875 [==============================] - 5s 3ms/step - loss: 0.1807 - acc: 0.9491 - val_loss: 0.1262 - val_acc: 0.9602\n",
      "Epoch 9/15\n",
      "1875/1875 [==============================] - 5s 3ms/step - loss: 0.1662 - acc: 0.9523 - val_loss: 0.1180 - val_acc: 0.9631\n",
      "Epoch 10/15\n",
      "1875/1875 [==============================] - 5s 3ms/step - loss: 0.1563 - acc: 0.9558 - val_loss: 0.1114 - val_acc: 0.9657\n",
      "Epoch 11/15\n",
      "1875/1875 [==============================] - 5s 3ms/step - loss: 0.1445 - acc: 0.9588 - val_loss: 0.1073 - val_acc: 0.9666\n",
      "Epoch 12/15\n",
      "1875/1875 [==============================] - 5s 3ms/step - loss: 0.1377 - acc: 0.9606 - val_loss: 0.1012 - val_acc: 0.9685\n",
      "Epoch 13/15\n",
      "1875/1875 [==============================] - 5s 3ms/step - loss: 0.1280 - acc: 0.9631 - val_loss: 0.0956 - val_acc: 0.9696\n",
      "Epoch 14/15\n",
      "1875/1875 [==============================] - 5s 3ms/step - loss: 0.1209 - acc: 0.9652 - val_loss: 0.0912 - val_acc: 0.9714\n",
      "Epoch 15/15\n",
      "1875/1875 [==============================] - 5s 3ms/step - loss: 0.1155 - acc: 0.9670 - val_loss: 0.0891 - val_acc: 0.9715\n",
      "NEW MODEl with optimizer  RMSprop\n",
      "Model architecture created successfully!\n",
      "Model compiled successfully and ready to be trained.\n",
      "Epoch 1/15\n",
      "1875/1875 [==============================] - 7s 3ms/step - loss: 0.2817 - acc: 0.9177 - val_loss: 0.1275 - val_acc: 0.9649\n",
      "Epoch 2/15\n",
      "1875/1875 [==============================] - 7s 3ms/step - loss: 0.1421 - acc: 0.9639 - val_loss: 0.1204 - val_acc: 0.9691\n",
      "Epoch 3/15\n",
      "1875/1875 [==============================] - 7s 4ms/step - loss: 0.1223 - acc: 0.9707 - val_loss: 0.1096 - val_acc: 0.9745\n",
      "Epoch 4/15\n",
      " 773/1875 [===========>..................] - ETA: 3s - loss: 0.1181 - acc: 0.9717"
     ]
    }
   ],
   "source": [
    "# training parameters\n",
    "batch_size = 32\n",
    "epochs = 15\n",
    "optimizers = ('sgd','RMSprop','Nadam','Adagrad')\n",
    "losses=[]\n",
    "val_losses=[]\n",
    "accs=[]\n",
    "val_accs=[]\n",
    "for opt in optimizers:\n",
    "    print(\"NEW MODEl with optimizer \",opt)\n",
    "    # create the deep neural net\n",
    "    model_DNN = CaCModel(opt)\n",
    "\n",
    "    # train DNN and store training info in history\n",
    "    history = model_DNN.fit(X_train, Y_train,\n",
    "              batch_size=batch_size,\n",
    "              epochs=epochs,\n",
    "              verbose=1,\n",
    "              validation_data=(X_test, Y_test))\n",
    "    \n",
    "    losses.append(history.history['loss'])\n",
    "    val_losses.append(history.history['val_loss'])\n",
    "    accs.append(history.history['acc'])\n",
    "    val_accs.append(history.history['val_acc'])"
   ]
  },
  {
   "cell_type": "code",
   "execution_count": null,
   "metadata": {},
   "outputs": [],
   "source": [
    "# look into training history\n",
    "plt.subplots(figsize=(18,15))\n",
    "plt.subplot(2,1,1)\n",
    "for i in range(len(optimizers)):\n",
    "    plt.plot(losses[i],linewidth = 4,label=f\"Train {optimizers[i]}\")\n",
    "    #plt.plot(val_losses[i],linewidth = 4,label=f\"Validation {optimizers[i]}\")\n",
    "plt.title('Model loss', fontsize=16)\n",
    "plt.grid()\n",
    "plt.ylabel('Loss')\n",
    "plt.xlabel('Epochs [#]')\n",
    "plt.legend( loc='best')\n",
    "\n",
    "# summarize history for loss\n",
    "plt.subplot(2,1,2)\n",
    "plt.title('Model Accuracy', fontsize=16)\n",
    "for i in range(len(optimizers)):\n",
    "    plt.plot(accs[i],linewidth = 4,label=f\"Train {optimizers[i]}\")\n",
    "    #plt.plot(val_accs[i],linewidth = 4,label=f\"Validation {optimizers}\")\n",
    "plt.ylabel('Accuracy')\n",
    "plt.xlabel('Epochs [#]')\n",
    "plt.grid()\n",
    "plt.legend( loc='best')\n",
    "plt.show()\n"
   ]
  },
  {
   "cell_type": "markdown",
   "metadata": {},
   "source": [
    "The sgd Optimizer have the lowest loss function along the epochs. It reachs the minimum when the Adam optimizator already did. On the other hand the RMSprop reach the the minimum loss value after only 2 epochs but then araise again. That's probably due to the overfitting problem and maybe the dropout acts less well for the selected optimizer. The optimizer the minimize the loss funciton and maximaze the efficiency is the Nadam."
   ]
  },
  {
   "cell_type": "markdown",
   "metadata": {},
   "source": [
    "Now we will shows the validation tests for the previous DNN models."
   ]
  },
  {
   "cell_type": "code",
   "execution_count": null,
   "metadata": {},
   "outputs": [],
   "source": [
    "# look into training history\n",
    "plt.subplots(figsize=(18,15))\n",
    "plt.subplot(2,1,1)\n",
    "for i in range(len(optimizers)):\n",
    "    #plt.plot(losses[i],linewidth = 4,label=f\"Train {optimizers}\")\n",
    "    plt.plot(val_losses[i],linewidth = 4,label=f\"Validation {optimizers[i]}\")\n",
    "plt.title('Model loss', fontsize=16)\n",
    "plt.grid()\n",
    "plt.ylabel('Loss')\n",
    "plt.xlabel('Epochs [#]')\n",
    "plt.legend( loc='best')\n",
    "\n",
    "# summarize history for loss\n",
    "plt.subplot(2,1,2)\n",
    "plt.title('Model Accuracy', fontsize=16)\n",
    "for i in range(len(optimizers)):\n",
    "    #plt.plot(accs[i],linewidth = 4,label=f\"Train {optimizers[i]}\")\n",
    "    plt.plot(val_accs[i],linewidth = 4,label=f\"Validation {optimizers[i]}\")\n",
    "plt.ylabel('Accuracy')\n",
    "plt.xlabel('Epochs [#]')\n",
    "plt.grid()\n",
    "plt.legend( loc='best')\n",
    "plt.show()"
   ]
  },
  {
   "cell_type": "markdown",
   "metadata": {},
   "source": [
    "#### Observation\n",
    "\n",
    "\n",
    "High accuracy and low loss function value are confirmed for the **Nadam** optimizer.\n",
    "The number of epochs can then be reduced to the resonable number of **8 epochs**."
   ]
  },
  {
   "cell_type": "code",
   "execution_count": null,
   "metadata": {},
   "outputs": [],
   "source": [
    "print(\"MODEl with optimizer Nadam\")\n",
    "# create the deep neural net\n",
    "epochs = 8\n",
    "model_DNN = CaCModel('Nadam')\n",
    "\n",
    "# train DNN and store training info in history\n",
    "history = model_DNN.fit(X_train, Y_train,\n",
    "          batch_size=batch_size,\n",
    "          epochs=epochs,\n",
    "          verbose=1,\n",
    "          validation_data=(X_test, Y_test))\n",
    "    \n",
    "predictions = model_DNN.predict(X_test)\n",
    "\n",
    "X_test = X_test.reshape(X_test.shape[0], img_rows, img_cols,1)\n",
    "\n",
    "plt.figure(figsize=(23, 15)) \n",
    "for i in range(15):    \n",
    "    ax = plt.subplot(2, 15, i + 1)    \n",
    "    plt.imshow(X_test[i, :, :, 0], cmap='gray')    \n",
    "    plt.title(\"Digit: {}\\nPredicted: {}\".format(np.argmax(Y_test[i]), np.argmax(predictions[i])))    \n",
    "    plt.axis('off') \n",
    "plt.show()"
   ]
  },
  {
   "cell_type": "markdown",
   "metadata": {},
   "source": [
    "#### Conclusion\n",
    "The Parameter found respond with high accuracy and low loss value after only 8 epochs.\n",
    "The test above shows that the model is good enought to predict the 10 digits above."
   ]
  },
  {
   "cell_type": "markdown",
   "metadata": {},
   "source": [
    "### Exercise 12.2 : Creating Convolutional Neural Nets (CNN)\n",
    "\n",
    "Now we would like to improve the accuracy of our model exploiting the *translational invariance* of the totality of the pixels and the *local* spatial correlations between the pixels. This is possible introducing Convulutional neural nets.\n",
    "\n",
    "To face it, we first need to reshape the training and test input data as follows"
   ]
  },
  {
   "cell_type": "code",
   "execution_count": null,
   "metadata": {},
   "outputs": [],
   "source": [
    "# you will need the following for Convolutional Neural Networks\n",
    "from keras.layers import Flatten, Conv2D, MaxPooling2D\n",
    "\n",
    "# reshape data, depending on Keras backend\n",
    "#serve a portarlo nel formato della figura\n",
    "if keras.backend.image_data_format() == 'channels_first':\n",
    "    X_train = X_train.reshape(X_train.shape[0], 1, img_rows, img_cols)\n",
    "    X_test = X_test.reshape(X_test.shape[0], 1, img_rows, img_cols)\n",
    "    input_shape = (1, img_rows, img_cols)\n",
    "else:\n",
    "    X_train = X_train.reshape(X_train.shape[0], img_rows, img_cols, 1)\n",
    "    X_test = X_test.reshape(X_test.shape[0], img_rows, img_cols, 1)\n",
    "    input_shape = (img_rows, img_cols, 1)\n",
    "    \n",
    "print('X_train shape:', X_train.shape)\n",
    "print('Y_train shape:', Y_train.shape)\n",
    "print()\n",
    "print(X_train.shape[0], 'train samples')\n",
    "print(X_test.shape[0], 'test samples')"
   ]
  },
  {
   "cell_type": "markdown",
   "metadata": {},
   "source": [
    "Change the architecture of the DNN model using convolutional layers. We consider:\n",
    "\n",
    "- 10 neurons for the **Conv2D** with **ReLU** activation function.\n",
    "- 10 neurons for the **MaxPooling2D** with **ReLU** activation function. \n",
    "- 5 neurons for the **Conv2D** with **ReLU** activation function.\n",
    "\n",
    "Then the DNN before defined:\n",
    "- 400 neurons with **ReLU** activation function.\n",
    "- 100 neurons with **ReLU** activation function.\n",
    "- Output layer with 10 neurons and **softmax** activation function."
   ]
  },
  {
   "cell_type": "code",
   "execution_count": null,
   "metadata": {},
   "outputs": [],
   "source": [
    "def create_CNN():\n",
    "    # instantiate model\n",
    "    model = Sequential()\n",
    "    model.add(Conv2D(10, kernel_size=(5, 5), activation='relu',input_shape=input_shape))                \n",
    "    model.add(MaxPooling2D(pool_size=(2,2)))\n",
    "    model.add(Conv2D(5,(5,5), activation = 'relu'))\n",
    "    model.add(MaxPooling2D(pool_size=(2,2)))\n",
    "    model.add(Dropout(0.5))\n",
    "\n",
    "    model.add(Flatten())\n",
    "\n",
    "    model.add(Dense(400, activation='relu'))\n",
    "    # add a dense all-to-all relu layer\n",
    "    model.add(Dense(100, activation='relu'))\n",
    "    # apply dropout with rate 0.5\n",
    "    model.add(Dropout(0.5))  \n",
    "    # soft-max layer\n",
    "    model.add(Dense(num_classes, activation='softmax'))\n",
    "\n",
    "    # compile the model\n",
    "    model.compile(loss=keras.losses.categorical_crossentropy,\n",
    "                  optimizer='Nadam',\n",
    "                  metrics=['acc'])\n",
    "    return model"
   ]
  },
  {
   "cell_type": "code",
   "execution_count": null,
   "metadata": {},
   "outputs": [],
   "source": [
    "# training parameters\n",
    "batch_size = 32\n",
    "epochs = 8\n",
    "\n",
    "# create the deep conv net\n",
    "model_CNN=create_CNN()\n",
    "\n",
    "# train CNN\n",
    "history = model_CNN.fit(X_train, Y_train,\n",
    "          batch_size=batch_size,\n",
    "          epochs=epochs,\n",
    "          verbose=1,\n",
    "          validation_data=(X_test, Y_test))\n",
    "\n",
    "# evaliate model\n",
    "score = model_CNN.evaluate(X_test, Y_test, verbose=1)\n",
    "\n",
    "# print performance\n",
    "print()\n",
    "print('Test loss:', score[0])\n",
    "print('Test accuracy:', score[1])"
   ]
  },
  {
   "cell_type": "code",
   "execution_count": null,
   "metadata": {},
   "outputs": [],
   "source": [
    "# look into training history\n",
    "plt.subplots(figsize=(18,15))\n",
    "plt.subplot(2,1,1)\n",
    "\n",
    "plt.plot(history.history['loss'],linewidth = 4,label=\"Train\")\n",
    "plt.plot(history.history['val_loss'],linewidth = 4,label=\"Validation \")\n",
    "plt.title('Model loss', fontsize=16)\n",
    "plt.grid()\n",
    "plt.ylabel('Loss')\n",
    "plt.xlabel('Epochs [#]')\n",
    "plt.legend( loc='best')\n",
    "\n",
    "# summarize history for loss\n",
    "plt.subplot(2,1,2)\n",
    "plt.title('Model Accuracy', fontsize=16)\n",
    "\n",
    "plt.plot(history.history['acc'],linewidth = 4,label=\"Train\")\n",
    "plt.plot(history.history['val_acc'],linewidth = 4,label=\"Validation \")\n",
    "plt.ylabel('Accuracy')\n",
    "plt.xlabel('Epochs [#]')\n",
    "plt.grid()\n",
    "plt.legend( loc='best')\n",
    "plt.show()"
   ]
  },
  {
   "cell_type": "code",
   "execution_count": null,
   "metadata": {},
   "outputs": [],
   "source": [
    "#X_test = X_test.reshape(X_test.shape[0], img_rows*img_cols)\n",
    "predictions = model_CNN.predict(X_test)\n",
    "\n",
    "X_test = X_test.reshape(X_test.shape[0], img_rows, img_cols,1)\n",
    "\n",
    "plt.figure(figsize=(23, 15)) \n",
    "for i in range(15):    \n",
    "    ax = plt.subplot(2, 15, i + 1)    \n",
    "    plt.imshow(X_test[i, :, :, 0], cmap='gray')    \n",
    "    plt.title(\"Digit: {}\\nPredicted: {}\".format(np.argmax(Y_test[i]), np.argmax(predictions[i])))    \n",
    "    plt.axis('off') \n",
    "plt.show()\n"
   ]
  },
  {
   "cell_type": "markdown",
   "metadata": {},
   "source": [
    "#### Conclusion\n",
    "We introduced the new convolution model wich perform well also if it reduce the accuracy of the DNN model."
   ]
  },
  {
   "cell_type": "markdown",
   "metadata": {},
   "source": [
    "### Exercise 12.3\n",
    "\n",
    "Let's try with 10 pictures of mine \"handwritten\" digits."
   ]
  },
  {
   "cell_type": "code",
   "execution_count": null,
   "metadata": {},
   "outputs": [],
   "source": [
    "from PIL import Image\n",
    "import os\n",
    "datas=[]\n",
    "predictions=[]\n",
    "filenames = {\"one\",\"two\",\"three\",\"four\",\"five\",\"six\",\"seven\",\"eight\",\"nine\"}\n",
    "\n",
    "for name in filenames:\n",
    "    digit_filename = f\"./mydigits/{name}.png\"\n",
    "    digit_in = Image.open(digit_filename).convert('L')\n",
    "\n",
    "    ydim, xdim = digit_in.size\n",
    "    pix=digit_in.load();\n",
    "    data = np.zeros((xdim, ydim))\n",
    "    for j in range(ydim):\n",
    "        for i in range(xdim):\n",
    "            data[i,j]=pix[j,i]\n",
    "    data /= 255\n",
    "    data = data.reshape(1,xdim*ydim)\n",
    "    pred_0 = model_DNN.predict(data)\n",
    "    predictions.append(pred_0)\n",
    "    data = data.reshape(xdim,ydim)\n",
    "    datas.append(data)\n"
   ]
  },
  {
   "cell_type": "markdown",
   "metadata": {},
   "source": [
    "I use the previously trained DNN to predict the digit:"
   ]
  },
  {
   "cell_type": "code",
   "execution_count": null,
   "metadata": {},
   "outputs": [],
   "source": [
    "plt.figure(figsize=(23, 15)) \n",
    "for i in range(9):    \n",
    "    ax = plt.subplot(2, 15, i + 1)    \n",
    "    plt.imshow(datas[i], cmap='gray')    \n",
    "    plt.title(f\"Predicted: {np.argmax(predictions[i])}\" )   \n",
    "    plt.axis('off') \n",
    "plt.show()\n"
   ]
  },
  {
   "cell_type": "markdown",
   "metadata": {},
   "source": [
    "#### Conclusion\n",
    "The CNN model predict well all the digits look-likes training ones. For example the 4 been written in an other way is not predicted. That is, the neural network is incapable of predicting data in areas outside the training range."
   ]
  },
  {
   "cell_type": "code",
   "execution_count": null,
   "metadata": {},
   "outputs": [],
   "source": []
  }
 ],
 "metadata": {
  "kernelspec": {
   "display_name": "Python 3 (ipykernel)",
   "language": "python",
   "name": "python3"
  },
  "language_info": {
   "codemirror_mode": {
    "name": "ipython",
    "version": 3
   },
   "file_extension": ".py",
   "mimetype": "text/x-python",
   "name": "python",
   "nbconvert_exporter": "python",
   "pygments_lexer": "ipython3",
   "version": "3.10.12"
  }
 },
 "nbformat": 4,
 "nbformat_minor": 2
}
